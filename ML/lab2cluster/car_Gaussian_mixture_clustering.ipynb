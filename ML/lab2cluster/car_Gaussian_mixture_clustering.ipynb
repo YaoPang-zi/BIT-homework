{
 "cells": [
  {
   "cell_type": "code",
   "execution_count": 6,
   "id": "9cbebfe7",
   "metadata": {},
   "outputs": [],
   "source": [
    "import numpy as np\n",
    "import pandas as pd\n",
    "import matplotlib.pyplot as plt\n",
    "from mindspore import nn, Tensor, ops\n",
    "import mindspore\n",
    "from IPython.display import display, clear_output\n",
    "import pandas as pd\n",
    "import seaborn as sns\n",
    "from scipy import stats\n",
    "from scipy.stats import norm, skew"
   ]
  },
  {
   "cell_type": "code",
   "execution_count": 7,
   "id": "01ba1d05",
   "metadata": {},
   "outputs": [],
   "source": [
    "# load data\n",
    "train=pd.read_csv('data_preprocess.csv')"
   ]
  },
  {
   "cell_type": "code",
   "execution_count": 8,
   "id": "09e5fa81",
   "metadata": {},
   "outputs": [
    {
     "name": "stdout",
     "output_type": "stream",
     "text": [
      "<class 'pandas.core.frame.DataFrame'>\n",
      "RangeIndex: 205 entries, 0 to 204\n",
      "Data columns (total 44 columns):\n",
      " #   Column                Non-Null Count  Dtype  \n",
      "---  ------                --------------  -----  \n",
      " 0   symboling             205 non-null    float64\n",
      " 1   wheelbase             205 non-null    float64\n",
      " 2   carheight             205 non-null    float64\n",
      " 3   curbweight            205 non-null    float64\n",
      " 4   cylindernumber        205 non-null    float64\n",
      " 5   enginesize            205 non-null    float64\n",
      " 6   boreratio             205 non-null    float64\n",
      " 7   stroke                205 non-null    float64\n",
      " 8   compressionratio      205 non-null    float64\n",
      " 9   horsepower            205 non-null    float64\n",
      " 10  peakrpm               205 non-null    float64\n",
      " 11  price                 205 non-null    float64\n",
      " 12  carsize               205 non-null    float64\n",
      " 13  mpg                   205 non-null    float64\n",
      " 14  fueltype_diesel       205 non-null    float64\n",
      " 15  fueltype_gas          205 non-null    float64\n",
      " 16  aspiration_std        205 non-null    float64\n",
      " 17  aspiration_turbo      205 non-null    float64\n",
      " 18  doornumber_four       205 non-null    float64\n",
      " 19  doornumber_two        205 non-null    float64\n",
      " 20  carbody_hatchback     205 non-null    float64\n",
      " 21  carbody_sedan         205 non-null    float64\n",
      " 22  carbody_sportcar      205 non-null    float64\n",
      " 23  carbody_wagon         205 non-null    float64\n",
      " 24  drivewheel_4wd        205 non-null    float64\n",
      " 25  drivewheel_fwd        205 non-null    float64\n",
      " 26  drivewheel_rwd        205 non-null    float64\n",
      " 27  enginelocation_front  205 non-null    float64\n",
      " 28  enginelocation_rear   205 non-null    float64\n",
      " 29  enginetype_dohc       205 non-null    float64\n",
      " 30  enginetype_dohcv      205 non-null    float64\n",
      " 31  enginetype_l          205 non-null    float64\n",
      " 32  enginetype_ohc        205 non-null    float64\n",
      " 33  enginetype_ohcf       205 non-null    float64\n",
      " 34  enginetype_ohcv       205 non-null    float64\n",
      " 35  enginetype_rotor      205 non-null    float64\n",
      " 36  fuelsystem_1bbl       205 non-null    float64\n",
      " 37  fuelsystem_2bbl       205 non-null    float64\n",
      " 38  fuelsystem_4bbl       205 non-null    float64\n",
      " 39  fuelsystem_idi        205 non-null    float64\n",
      " 40  fuelsystem_mfi        205 non-null    float64\n",
      " 41  fuelsystem_mpfi       205 non-null    float64\n",
      " 42  fuelsystem_spdi       205 non-null    float64\n",
      " 43  fuelsystem_spfi       205 non-null    float64\n",
      "dtypes: float64(44)\n",
      "memory usage: 70.6 KB\n"
     ]
    }
   ],
   "source": [
    "# Convert object features to one-hot encoding and remove properties that are not needed for classification\n",
    "train.drop(['car_ID','CarName','brand'],axis=1,inplace=True)\n",
    "train=pd.get_dummies(train)\n",
    "train=train.astype(np.float64)\n",
    "train.info()"
   ]
  },
  {
   "cell_type": "code",
   "execution_count": 9,
   "id": "a0283bd5",
   "metadata": {},
   "outputs": [
    {
     "data": {
      "text/plain": [
       "Text(0.5, 0, 'n_components')"
      ]
     },
     "execution_count": 9,
     "metadata": {},
     "output_type": "execute_result"
    },
    {
     "data": {
      "image/png": "[encoded data removed]",
      "text/plain": [
       "<Figure size 432x288 with 1 Axes>"
      ]
     },
     "metadata": {
      "needs_background": "light"
     },
     "output_type": "display_data"
    }
   ],
   "source": [
    "# Select the most appropriate number of clusters\n",
    "from sklearn.mixture import GaussianMixture as GMM\n",
    "\n",
    "n_components = np.arange(1, 10)\n",
    "models = [GMM(n, random_state=42).fit(train)\n",
    "          for n in n_components]\n",
    "\n",
    "plt.plot(n_components, [m.bic(train) for m in models], label='BIC')\n",
    "plt.plot(n_components, [m.aic(train) for m in models], label='AIC')\n",
    "plt.legend(loc='best')\n",
    "plt.xlabel('n_components')"
   ]
  },
  {
   "cell_type": "code",
   "execution_count": 13,
   "id": "456b8779",
   "metadata": {},
   "outputs": [],
   "source": [
    "train_pre=pd.read_csv('car_price.csv')\n",
    "train_pre['brand']=train_pre['CarName'].str.split(\" \",expand=True)[0]\n",
    "train_pre['brand']=train_pre['brand'].replace({'toyouta':'toyota','vokswagen':'volkswagen','vw':'volkswagen','porcshce':'porsche','maxda':'mazda','Nissan':'nissan'})\n",
    "car_base_info=train_pre[['car_ID','CarName','carbody','brand']]"
   ]
  },
  {
   "cell_type": "code",
   "execution_count": 15,
   "id": "78653799",
   "metadata": {
    "scrolled": true
   },
   "outputs": [
    {
     "data": {
      "text/html": [
       "<div>\n",
       "<style scoped>\n",
       "    .dataframe tbody tr th:only-of-type {\n",
       "        vertical-align: middle;\n",
       "    }\n",
       "\n",
       "    .dataframe tbody tr th {\n",
       "        vertical-align: top;\n",
       "    }\n",
       "\n",
       "    .dataframe thead th {\n",
       "        text-align: right;\n",
       "    }\n",
       "</style>\n",
       "<table border=\"1\" class=\"dataframe\">\n",
       "  <thead>\n",
       "    <tr style=\"text-align: right;\">\n",
       "      <th></th>\n",
       "      <th>car_ID</th>\n",
       "      <th>CarName</th>\n",
       "      <th>carbody</th>\n",
       "      <th>brand</th>\n",
       "      <th>class</th>\n",
       "    </tr>\n",
       "  </thead>\n",
       "  <tbody>\n",
       "    <tr>\n",
       "      <th>0</th>\n",
       "      <td>1</td>\n",
       "      <td>alfa-romero giulia</td>\n",
       "      <td>convertible</td>\n",
       "      <td>alfa-romero</td>\n",
       "      <td>3</td>\n",
       "    </tr>\n",
       "    <tr>\n",
       "      <th>1</th>\n",
       "      <td>2</td>\n",
       "      <td>alfa-romero stelvio</td>\n",
       "      <td>convertible</td>\n",
       "      <td>alfa-romero</td>\n",
       "      <td>3</td>\n",
       "    </tr>\n",
       "    <tr>\n",
       "      <th>2</th>\n",
       "      <td>3</td>\n",
       "      <td>alfa-romero Quadrifoglio</td>\n",
       "      <td>hatchback</td>\n",
       "      <td>alfa-romero</td>\n",
       "      <td>3</td>\n",
       "    </tr>\n",
       "    <tr>\n",
       "      <th>3</th>\n",
       "      <td>4</td>\n",
       "      <td>audi 100 ls</td>\n",
       "      <td>sedan</td>\n",
       "      <td>audi</td>\n",
       "      <td>0</td>\n",
       "    </tr>\n",
       "    <tr>\n",
       "      <th>4</th>\n",
       "      <td>5</td>\n",
       "      <td>audi 100ls</td>\n",
       "      <td>sedan</td>\n",
       "      <td>audi</td>\n",
       "      <td>3</td>\n",
       "    </tr>\n",
       "    <tr>\n",
       "      <th>...</th>\n",
       "      <td>...</td>\n",
       "      <td>...</td>\n",
       "      <td>...</td>\n",
       "      <td>...</td>\n",
       "      <td>...</td>\n",
       "    </tr>\n",
       "    <tr>\n",
       "      <th>200</th>\n",
       "      <td>201</td>\n",
       "      <td>volvo 145e (sw)</td>\n",
       "      <td>sedan</td>\n",
       "      <td>volvo</td>\n",
       "      <td>4</td>\n",
       "    </tr>\n",
       "    <tr>\n",
       "      <th>201</th>\n",
       "      <td>202</td>\n",
       "      <td>volvo 144ea</td>\n",
       "      <td>sedan</td>\n",
       "      <td>volvo</td>\n",
       "      <td>4</td>\n",
       "    </tr>\n",
       "    <tr>\n",
       "      <th>202</th>\n",
       "      <td>203</td>\n",
       "      <td>volvo 244dl</td>\n",
       "      <td>sedan</td>\n",
       "      <td>volvo</td>\n",
       "      <td>4</td>\n",
       "    </tr>\n",
       "    <tr>\n",
       "      <th>203</th>\n",
       "      <td>204</td>\n",
       "      <td>volvo 246</td>\n",
       "      <td>sedan</td>\n",
       "      <td>volvo</td>\n",
       "      <td>4</td>\n",
       "    </tr>\n",
       "    <tr>\n",
       "      <th>204</th>\n",
       "      <td>205</td>\n",
       "      <td>volvo 264gl</td>\n",
       "      <td>sedan</td>\n",
       "      <td>volvo</td>\n",
       "      <td>4</td>\n",
       "    </tr>\n",
       "  </tbody>\n",
       "</table>\n",
       "<p>205 rows × 5 columns</p>\n",
       "</div>"
      ],
      "text/plain": [
       "     car_ID                   CarName      carbody        brand  class\n",
       "0         1        alfa-romero giulia  convertible  alfa-romero      3\n",
       "1         2       alfa-romero stelvio  convertible  alfa-romero      3\n",
       "2         3  alfa-romero Quadrifoglio    hatchback  alfa-romero      3\n",
       "3         4               audi 100 ls        sedan         audi      0\n",
       "4         5                audi 100ls        sedan         audi      3\n",
       "..      ...                       ...          ...          ...    ...\n",
       "200     201           volvo 145e (sw)        sedan        volvo      4\n",
       "201     202               volvo 144ea        sedan        volvo      4\n",
       "202     203               volvo 244dl        sedan        volvo      4\n",
       "203     204                 volvo 246        sedan        volvo      4\n",
       "204     205               volvo 264gl        sedan        volvo      4\n",
       "\n",
       "[205 rows x 5 columns]"
      ]
     },
     "execution_count": 15,
     "metadata": {},
     "output_type": "execute_result"
    }
   ],
   "source": [
    "# train GMM\n",
    "car_base_info\n",
    "gaussian=GMM(n_components=5,random_state=42).fit(train)\n",
    "gaussian_pred=gaussian.predict(train)\n",
    "preds = pd.DataFrame({'class':gaussian_pred})\n",
    "\n",
    "result=pd.concat((car_base_info,preds),axis=1)\n",
    "result"
   ]
  },
  {
   "cell_type": "code",
   "execution_count": 25,
   "id": "2b348f93",
   "metadata": {},
   "outputs": [
    {
     "data": {
      "text/plain": [
       "0.33170731707317075"
      ]
     },
     "execution_count": 25,
     "metadata": {},
     "output_type": "execute_result"
    }
   ],
   "source": [
    "# evaluate\n",
    "correct = 0\n",
    "result['class']\n",
    "train_pre['symboling']\n",
    "for i in range (len(result['class'])):\n",
    "    if result['class'][i] == train_pre['symboling'][i]:\n",
    "        correct+=1\n",
    "        \n",
    "res = correct/len(result['class'])\n",
    "res"
   ]
  }
 ],
 "metadata": {
  "kernelspec": {
   "display_name": "Python 3 (ipykernel)",
   "language": "python",
   "name": "python3"
  },
  "language_info": {
   "codemirror_mode": {
    "name": "ipython",
    "version": 3
   },
   "file_extension": ".py",
   "mimetype": "text/x-python",
   "name": "python",
   "nbconvert_exporter": "python",
   "pygments_lexer": "ipython3",
   "version": "3.9.7"
  }
 },
 "nbformat": 4,
 "nbformat_minor": 5
}
