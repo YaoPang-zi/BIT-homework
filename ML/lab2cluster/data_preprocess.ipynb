{
 "cells": [
  {
   "cell_type": "code",
   "execution_count": 37,
   "id": "7276593b",
   "metadata": {},
   "outputs": [],
   "source": [
    "import numpy as np\n",
    "import pandas as pd\n",
    "import matplotlib.pyplot as plt\n",
    "from mindspore import nn, Tensor, ops\n",
    "import mindspore\n",
    "from IPython.display import display, clear_output\n",
    "import pandas as pd\n",
    "import seaborn as sns\n",
    "from scipy import stats\n",
    "from scipy.stats import norm, skew"
   ]
  },
  {
   "cell_type": "markdown",
   "id": "097bf50d",
   "metadata": {},
   "source": [
    "Load data"
   ]
  },
  {
   "cell_type": "code",
   "execution_count": 38,
   "id": "604cdd75",
   "metadata": {},
   "outputs": [],
   "source": [
    "# load data\n",
    "train=pd.read_csv('car_price.csv')"
   ]
  },
  {
   "cell_type": "markdown",
   "id": "349a3b3f",
   "metadata": {},
   "source": [
    "Data preprocessing"
   ]
  },
  {
   "cell_type": "code",
   "execution_count": 39,
   "id": "276d0816",
   "metadata": {},
   "outputs": [
    {
     "data": {
      "text/plain": [
       "sedan        96\n",
       "hatchback    70\n",
       "wagon        25\n",
       "sportcar     14\n",
       "Name: carbody, dtype: int64"
      ]
     },
     "execution_count": 39,
     "metadata": {},
     "output_type": "execute_result"
    }
   ],
   "source": [
    "# data preprocessing\n",
    "# The classification of cars can be basically determined by the 'carbody' attribute, and there are roughly five categories. However, the last two categories are very few and can basically be counted \n",
    "# as \"sports cars\", so the current review of car classification is determined to be four categories.\n",
    "train.loc[(train['carbody']=='hardtop'),'carbody']='sportcar'\n",
    "train.loc[(train['carbody']=='convertible'),'carbody']='sportcar'\n",
    "train['carbody'].value_counts()"
   ]
  },
  {
   "cell_type": "code",
   "execution_count": 40,
   "id": "1aaa0fb9",
   "metadata": {},
   "outputs": [
    {
     "data": {
      "text/plain": [
       "toyota         32\n",
       "nissan         18\n",
       "mazda          17\n",
       "mitsubishi     13\n",
       "honda          13\n",
       "volkswagen     12\n",
       "subaru         12\n",
       "peugeot        11\n",
       "volvo          11\n",
       "dodge           9\n",
       "buick           8\n",
       "bmw             8\n",
       "audi            7\n",
       "plymouth        7\n",
       "saab            6\n",
       "porsche         5\n",
       "isuzu           4\n",
       "jaguar          3\n",
       "chevrolet       3\n",
       "alfa-romero     3\n",
       "renault         2\n",
       "mercury         1\n",
       "Name: brand, dtype: int64"
      ]
     },
     "execution_count": 40,
     "metadata": {},
     "output_type": "execute_result"
    }
   ],
   "source": [
    "train['brand']=train['CarName'].str.split(\" \",expand=True)[0]\n",
    "train['brand']=train['brand'].replace({'toyouta':'toyota','vokswagen':'volkswagen','vw':'volkswagen','porcshce':'porsche','maxda':'mazda','Nissan':'nissan'})\n",
    "train['brand'].value_counts()"
   ]
  },
  {
   "cell_type": "code",
   "execution_count": 41,
   "id": "21e53724",
   "metadata": {},
   "outputs": [
    {
     "data": {
      "text/html": [
       "<div>\n",
       "<style scoped>\n",
       "    .dataframe tbody tr th:only-of-type {\n",
       "        vertical-align: middle;\n",
       "    }\n",
       "\n",
       "    .dataframe tbody tr th {\n",
       "        vertical-align: top;\n",
       "    }\n",
       "\n",
       "    .dataframe thead th {\n",
       "        text-align: right;\n",
       "    }\n",
       "</style>\n",
       "<table border=\"1\" class=\"dataframe\">\n",
       "  <thead>\n",
       "    <tr style=\"text-align: right;\">\n",
       "      <th></th>\n",
       "      <th>car_ID</th>\n",
       "      <th>CarName</th>\n",
       "      <th>carbody</th>\n",
       "      <th>brand</th>\n",
       "    </tr>\n",
       "  </thead>\n",
       "  <tbody>\n",
       "    <tr>\n",
       "      <th>0</th>\n",
       "      <td>1</td>\n",
       "      <td>alfa-romero giulia</td>\n",
       "      <td>sportcar</td>\n",
       "      <td>alfa-romero</td>\n",
       "    </tr>\n",
       "    <tr>\n",
       "      <th>1</th>\n",
       "      <td>2</td>\n",
       "      <td>alfa-romero stelvio</td>\n",
       "      <td>sportcar</td>\n",
       "      <td>alfa-romero</td>\n",
       "    </tr>\n",
       "    <tr>\n",
       "      <th>2</th>\n",
       "      <td>3</td>\n",
       "      <td>alfa-romero Quadrifoglio</td>\n",
       "      <td>hatchback</td>\n",
       "      <td>alfa-romero</td>\n",
       "    </tr>\n",
       "    <tr>\n",
       "      <th>3</th>\n",
       "      <td>4</td>\n",
       "      <td>audi 100 ls</td>\n",
       "      <td>sedan</td>\n",
       "      <td>audi</td>\n",
       "    </tr>\n",
       "    <tr>\n",
       "      <th>4</th>\n",
       "      <td>5</td>\n",
       "      <td>audi 100ls</td>\n",
       "      <td>sedan</td>\n",
       "      <td>audi</td>\n",
       "    </tr>\n",
       "    <tr>\n",
       "      <th>...</th>\n",
       "      <td>...</td>\n",
       "      <td>...</td>\n",
       "      <td>...</td>\n",
       "      <td>...</td>\n",
       "    </tr>\n",
       "    <tr>\n",
       "      <th>200</th>\n",
       "      <td>201</td>\n",
       "      <td>volvo 145e (sw)</td>\n",
       "      <td>sedan</td>\n",
       "      <td>volvo</td>\n",
       "    </tr>\n",
       "    <tr>\n",
       "      <th>201</th>\n",
       "      <td>202</td>\n",
       "      <td>volvo 144ea</td>\n",
       "      <td>sedan</td>\n",
       "      <td>volvo</td>\n",
       "    </tr>\n",
       "    <tr>\n",
       "      <th>202</th>\n",
       "      <td>203</td>\n",
       "      <td>volvo 244dl</td>\n",
       "      <td>sedan</td>\n",
       "      <td>volvo</td>\n",
       "    </tr>\n",
       "    <tr>\n",
       "      <th>203</th>\n",
       "      <td>204</td>\n",
       "      <td>volvo 246</td>\n",
       "      <td>sedan</td>\n",
       "      <td>volvo</td>\n",
       "    </tr>\n",
       "    <tr>\n",
       "      <th>204</th>\n",
       "      <td>205</td>\n",
       "      <td>volvo 264gl</td>\n",
       "      <td>sedan</td>\n",
       "      <td>volvo</td>\n",
       "    </tr>\n",
       "  </tbody>\n",
       "</table>\n",
       "<p>205 rows × 4 columns</p>\n",
       "</div>"
      ],
      "text/plain": [
       "     car_ID                   CarName    carbody        brand\n",
       "0         1        alfa-romero giulia   sportcar  alfa-romero\n",
       "1         2       alfa-romero stelvio   sportcar  alfa-romero\n",
       "2         3  alfa-romero Quadrifoglio  hatchback  alfa-romero\n",
       "3         4               audi 100 ls      sedan         audi\n",
       "4         5                audi 100ls      sedan         audi\n",
       "..      ...                       ...        ...          ...\n",
       "200     201           volvo 145e (sw)      sedan        volvo\n",
       "201     202               volvo 144ea      sedan        volvo\n",
       "202     203               volvo 244dl      sedan        volvo\n",
       "203     204                 volvo 246      sedan        volvo\n",
       "204     205               volvo 264gl      sedan        volvo\n",
       "\n",
       "[205 rows x 4 columns]"
      ]
     },
     "execution_count": 41,
     "metadata": {},
     "output_type": "execute_result"
    }
   ],
   "source": [
    "car_base_info=train[['car_ID','CarName','carbody','brand']]\n",
    "car_base_info"
   ]
  },
  {
   "cell_type": "markdown",
   "id": "c24d4efd",
   "metadata": {},
   "source": [
    "Feature transformation"
   ]
  },
  {
   "cell_type": "code",
   "execution_count": 42,
   "id": "ac1aaf43",
   "metadata": {},
   "outputs": [
    {
     "name": "stderr",
     "output_type": "stream",
     "text": [
      "E:\\anaconda_applicaitons\\lib\\site-packages\\seaborn\\distributions.py:2619: FutureWarning: `distplot` is a deprecated function and will be removed in a future version. Please adapt your code to use either `displot` (a figure-level function with similar flexibility) or `histplot` (an axes-level function for histograms).\n",
      "  warnings.warn(msg, FutureWarning)\n"
     ]
    },
    {
     "data": {
      "image/png": "[encoded data removed]",
      "text/plain": [
       "<Figure size 432x288 with 1 Axes>"
      ]
     },
     "metadata": {
      "needs_background": "light"
     },
     "output_type": "display_data"
    }
   ],
   "source": [
    "# cylindernumber\n",
    "train['cylindernumber']=train['cylindernumber'].map({'two':'2','three':'3','four':'4','five':'5','six':'5','eight':'8','twelve':'12'})\n",
    "train['cylindernumber']=pd.to_numeric(train['cylindernumber'],downcast='integer')\n",
    "\n",
    "# car size: car height & car width\n",
    "train['carsize']=train['carlength']*train['carwidth']\n",
    "sns.distplot(train['carsize'])\n",
    "train['carsize_band']=pd.cut(train['carsize'],4)\n",
    "train.loc[(train['carsize']<=10111),'carsize']=0\n",
    "train.loc[(train['carsize']>10111)&(train['carsize']<=11714),'carsize']=1\n",
    "train.loc[(train['carsize']>11714)&(train['carsize']<=13317),'carsize']=2\n",
    "train.loc[(train['carsize']>13317),'carsize']=3\n",
    "train['carsize']=train['carsize'].astype(np.int64)\n",
    "train.drop(['carsize_band','carlength','carwidth'],axis=1,inplace=True)\n",
    "\n",
    "#car weight\n",
    "train['carheight_band']=pd.cut(train['carheight'],5)\n",
    "train.loc[(train['carheight']<=50.2),'carheight']=0\n",
    "train.loc[(train['carheight']>50.2)&(train['carheight']<=52.6),'carheight']=1\n",
    "train.loc[(train['carheight']>52.6)&(train['carheight']<=55),'carheight']=2\n",
    "train.loc[(train['carheight']>55)&(train['carheight']<=57.4),'carheight']=3\n",
    "train.loc[(train['carheight']>57.4),'carheight']=4\n",
    "train['carheight']=train['carheight'].astype(np.int64)\n",
    "train.drop(['carheight_band'],axis=1,inplace=True)"
   ]
  },
  {
   "cell_type": "code",
   "execution_count": 43,
   "id": "eed383b1",
   "metadata": {},
   "outputs": [
    {
     "name": "stderr",
     "output_type": "stream",
     "text": [
      "E:\\anaconda_applicaitons\\lib\\site-packages\\seaborn\\distributions.py:2619: FutureWarning: `distplot` is a deprecated function and will be removed in a future version. Please adapt your code to use either `displot` (a figure-level function with similar flexibility) or `histplot` (an axes-level function for histograms).\n",
      "  warnings.warn(msg, FutureWarning)\n"
     ]
    },
    {
     "data": {
      "image/png": "[encoded data removed]",
      "text/plain": [
       "<Figure size 432x288 with 1 Axes>"
      ]
     },
     "metadata": {
      "needs_background": "light"
     },
     "output_type": "display_data"
    }
   ],
   "source": [
    "# horsepower\n",
    "sns.distplot(train['horsepower'])\n",
    "train['power_band']=pd.cut(train['horsepower'],4)\n",
    "train['power_band'].value_counts()\n",
    "train.loc[train['horsepower']<=108,'horsepower']=0\n",
    "train.loc[(train['horsepower']>108)&(train['horsepower']<=168),'horsepower']=1\n",
    "train.loc[(train['horsepower']>168),'horsepower']=2\n",
    "train['horsepower']=train['horsepower'].astype(np.int64)\n",
    "train.drop(['power_band'],axis=1,inplace=True)"
   ]
  },
  {
   "cell_type": "code",
   "execution_count": 44,
   "id": "959017fc",
   "metadata": {},
   "outputs": [
    {
     "name": "stderr",
     "output_type": "stream",
     "text": [
      "E:\\anaconda_applicaitons\\lib\\site-packages\\seaborn\\distributions.py:2619: FutureWarning: `distplot` is a deprecated function and will be removed in a future version. Please adapt your code to use either `displot` (a figure-level function with similar flexibility) or `histplot` (an axes-level function for histograms).\n",
      "  warnings.warn(msg, FutureWarning)\n"
     ]
    },
    {
     "name": "stdout",
     "output_type": "stream",
     "text": [
      "         price_band      price\n",
      "0    (8.539, 8.977]   8.815078\n",
      "1    (8.977, 9.414]   9.165141\n",
      "2     (9.414, 9.85]   9.655478\n",
      "3    (9.85, 10.287]  10.038937\n",
      "4  (10.287, 10.723]  10.475840\n"
     ]
    },
    {
     "data": {
      "image/png": "[encoded data removed]",
      "text/plain": [
       "<Figure size 432x288 with 1 Axes>"
      ]
     },
     "metadata": {
      "needs_background": "light"
     },
     "output_type": "display_data"
    }
   ],
   "source": [
    "# price\n",
    "train['price']=np.log1p(train['price'])\n",
    "sns.distplot(train['price'])\n",
    "train['price_band']=pd.cut(train['price'],5)\n",
    "train['price_band'].value_counts()\n",
    "print(train[['price_band','price']].groupby(['price_band'],as_index=False).mean().sort_values(by=['price'],ascending=True))\n",
    "\n",
    "train.loc[train['price']<=8.997,'price']=0\n",
    "train.loc[(train['price']>8.997)&(train['price']<=9.414),'price']=1\n",
    "train.loc[(train['price']>9.414)&(train['price']<=9.85),'price']=2\n",
    "train.loc[(train['price']>9.85)&(train['price']<=10.287),'price']=3\n",
    "train.loc[(train['price']>10.287)&(train['price']<=10.723),'price']=4\n",
    "train['price']=train['price'].astype(np.int64)\n",
    "train=train.drop(['price_band'],axis=1)"
   ]
  },
  {
   "cell_type": "code",
   "execution_count": 45,
   "id": "344dc761",
   "metadata": {},
   "outputs": [
    {
     "name": "stderr",
     "output_type": "stream",
     "text": [
      "E:\\anaconda_applicaitons\\lib\\site-packages\\seaborn\\distributions.py:2619: FutureWarning: `distplot` is a deprecated function and will be removed in a future version. Please adapt your code to use either `displot` (a figure-level function with similar flexibility) or `histplot` (an axes-level function for histograms).\n",
      "  warnings.warn(msg, FutureWarning)\n"
     ]
    },
    {
     "name": "stdout",
     "output_type": "stream",
     "text": [
      "(93.46, 100.32]     125\n",
      "(100.32, 107.18]     38\n",
      "(107.18, 114.04]     18\n",
      "(86.566, 93.46]      17\n",
      "(114.04, 120.9]       7\n",
      "Name: wheelbase_band, dtype: int64\n"
     ]
    },
    {
     "data": {
      "image/png": "[encoded data removed]",
      "text/plain": [
       "<Figure size 432x288 with 1 Axes>"
      ]
     },
     "metadata": {
      "needs_background": "light"
     },
     "output_type": "display_data"
    }
   ],
   "source": [
    "# wheelbase\n",
    "sns.distplot(train['wheelbase'])\n",
    "train['wheelbase_band']=pd.cut(train['wheelbase'],5)\n",
    "print(train['wheelbase_band'].value_counts())\n",
    "train.loc[(train['wheelbase']<=93.46),'wheelbase']=0\n",
    "train.loc[(train['wheelbase']>93.46)&(train['wheelbase']<=100.32),'wheelbase']=1\n",
    "train.loc[(train['wheelbase']>100.32)&(train['wheelbase']<=107.18),'wheelbase']=2\n",
    "train.loc[(train['wheelbase']>107.18)&(train['wheelbase']<=114.04),'wheelbase']=3\n",
    "train.loc[(train['wheelbase']>114.04)&(train['wheelbase']<=120.9),'wheelbase']=4\n",
    "\n",
    "train['wheelbase']=train['wheelbase'].astype(np.int64)\n",
    "train=train.drop(['wheelbase_band'],axis=1)"
   ]
  },
  {
   "cell_type": "code",
   "execution_count": 46,
   "id": "73b00c2f",
   "metadata": {},
   "outputs": [
    {
     "name": "stderr",
     "output_type": "stream",
     "text": [
      "E:\\anaconda_applicaitons\\lib\\site-packages\\seaborn\\distributions.py:2619: FutureWarning: `distplot` is a deprecated function and will be removed in a future version. Please adapt your code to use either `displot` (a figure-level function with similar flexibility) or `histplot` (an axes-level function for histograms).\n",
      "  warnings.warn(msg, FutureWarning)\n"
     ]
    },
    {
     "data": {
      "image/png": "[encoded data removed]",
      "text/plain": [
       "<Figure size 432x288 with 1 Axes>"
      ]
     },
     "metadata": {
      "needs_background": "light"
     },
     "output_type": "display_data"
    }
   ],
   "source": [
    "# citympg & highwaympg\n",
    "train['mpg']=train['citympg']+train['highwaympg']\n",
    "train=train.drop(['citympg','highwaympg'],axis=1)\n",
    "train['mpg_band']=pd.cut(train['mpg'],5)\n",
    "sns.distplot(train['mpg'])\n",
    "\n",
    "train.loc[(train['mpg']<=44.6),'mpg']=0\n",
    "train.loc[(train['mpg']>44.6)&(train['mpg']<=59.2),'mpg']=1\n",
    "train.loc[(train['mpg']>59.2)&(train['mpg']<=73.8),'mpg']=2\n",
    "train.loc[(train['mpg']>73.8),'mpg']=3\n",
    "\n",
    "train['mpg']=train['mpg'].astype(np.int64)\n",
    "train=train.drop(['mpg_band'],axis=1)"
   ]
  },
  {
   "cell_type": "code",
   "execution_count": 47,
   "id": "70a0e5b5",
   "metadata": {},
   "outputs": [
    {
     "name": "stderr",
     "output_type": "stream",
     "text": [
      "E:\\anaconda_applicaitons\\lib\\site-packages\\seaborn\\distributions.py:2619: FutureWarning: `distplot` is a deprecated function and will be removed in a future version. Please adapt your code to use either `displot` (a figure-level function with similar flexibility) or `histplot` (an axes-level function for histograms).\n",
      "  warnings.warn(msg, FutureWarning)\n"
     ]
    },
    {
     "data": {
      "image/png": "[encoded data removed]",
      "text/plain": [
       "<Figure size 432x288 with 1 Axes>"
      ]
     },
     "metadata": {
      "needs_background": "light"
     },
     "output_type": "display_data"
    }
   ],
   "source": [
    "# curbweight\n",
    "sns.distplot(train['curbweight'])\n",
    "train['curb_band']=pd.cut(train['curbweight'],5)\n",
    "train['curb_band'].value_counts()\n",
    "\n",
    "train.loc[train['curbweight']<=2003.6,'curbweight']=0\n",
    "train.loc[(train['curbweight']>2003.6)&(train['curbweight']<=2519.2),'curbweight']=1\n",
    "train.loc[(train['curbweight']>2519.2)&(train['curbweight']<=3034.8),'curbweight']=2\n",
    "train.loc[(train['curbweight']>3034.8)&(train['curbweight']<=3550.4),'curbweight']=3\n",
    "train.loc[train['curbweight']>3550.4,'curbweight']=4\n",
    "\n",
    "train['curbweight']=train['curbweight'].astype(np.int64)\n",
    "train=train.drop(['curb_band'],axis=1)"
   ]
  },
  {
   "cell_type": "code",
   "execution_count": 48,
   "id": "98a37552",
   "metadata": {},
   "outputs": [],
   "source": [
    "# boreratio\n",
    "train['boreratio_band']=pd.cut(train['boreratio'],5)\n",
    "train['boreratio_band'].value_counts()\n",
    "\n",
    "train.loc[train['boreratio']<=3.1,'boreratio']=0\n",
    "train.loc[(train['boreratio']>3.1)&(train['boreratio']<=3.38),'boreratio']=1\n",
    "train.loc[(train['boreratio']>3.38)&(train['boreratio']<=3.66),'boreratio']=2\n",
    "train.loc[(train['boreratio']>3.66)&(train['boreratio']<=3.94),'boreratio']=3\n",
    "\n",
    "train['boreratio']=train['boreratio'].astype(np.int64)\n",
    "train=train.drop(['boreratio_band'],axis=1)\n",
    "\n",
    "# stroke\n",
    "train['stroke_band']=pd.cut(train['stroke'],5)\n",
    "train['stroke_band'].value_counts()\n",
    "\n",
    "train.loc[(train['stroke']<=2.91),'stroke']=0\n",
    "train.loc[(train['stroke']>2.91)&(train['stroke']<=3.33),'stroke']=1\n",
    "train.loc[(train['stroke']>3.33)&(train['stroke']<=3.75),'stroke']=2\n",
    "\n",
    "train['stroke']=train['stroke'].astype(np.int64)\n",
    "train=train.drop(['stroke_band'],axis=1)\n",
    "\n",
    "# compressionratio\n",
    "train['comp_brand']=pd.cut(train['compressionratio'],2)\n",
    "train['comp_brand'].value_counts()\n",
    "\n",
    "train.loc[train['compressionratio']<=15,'compressionratio']=0\n",
    "train.loc[train['compressionratio']>15,'compressionratio']=1\n",
    "\n",
    "train=train.drop(['comp_brand'],axis=1)\n",
    "train['compressionratio']=train['compressionratio'].astype(np.int64)\n",
    "\n",
    "# enginesize\n",
    "train['engine_band']=pd.cut(train['enginesize'],5)\n",
    "train['engine_band'].value_counts()\n",
    "\n",
    "train.loc[(train['enginesize']<=114),'enginesize']=0\n",
    "train.loc[(train['enginesize']>114)&(train['enginesize']<=167),'enginesize']=1\n",
    "train.loc[(train['enginesize']>167)&(train['enginesize']<=220),'enginesize']=2\n",
    "train.loc[(train['enginesize']>220),'enginesize']=3\n",
    "\n",
    "train['enginesize'].astype(np.int64)\n",
    "train.drop(['engine_band'],axis=1,inplace=True)\n",
    "\n",
    "# peakrpm\n",
    "train['rpm_band']=pd.cut(train['peakrpm'],5)\n",
    "train['rpm_band'].value_counts()\n",
    "\n",
    "train.loc[(train['peakrpm']<=4640),'peakrpm']=0\n",
    "train.loc[(train['peakrpm']>4640)&(train['peakrpm']<=5130),'peakrpm']=1\n",
    "train.loc[(train['peakrpm']>5130)&(train['peakrpm']<=5620),'peakrpm']=2\n",
    "train.loc[(train['peakrpm']>5620)&(train['peakrpm']<=6110),'peakrpm']=3\n",
    "train.loc[(train['peakrpm']>6110),'peakrpm']=4\n",
    "\n",
    "train['peakrpm'].astype(np.int64)\n",
    "train.drop(['rpm_band'],axis=1,inplace=True)"
   ]
  },
  {
   "cell_type": "code",
   "execution_count": 49,
   "id": "ec7bed94",
   "metadata": {},
   "outputs": [],
   "source": [
    "train.to_csv('data_preprocess.csv',index=False)"
   ]
  }
 ],
 "metadata": {
  "kernelspec": {
   "display_name": "Python 3 (ipykernel)",
   "language": "python",
   "name": "python3"
  },
  "language_info": {
   "codemirror_mode": {
    "name": "ipython",
    "version": 3
   },
   "file_extension": ".py",
   "mimetype": "text/x-python",
   "name": "python",
   "nbconvert_exporter": "python",
   "pygments_lexer": "ipython3",
   "version": "3.9.7"
  }
 },
 "nbformat": 4,
 "nbformat_minor": 5
}
