{
 "cells": [
  {
   "cell_type": "code",
   "execution_count": 1,
   "id": "4ee23ebd",
   "metadata": {},
   "outputs": [
    {
     "name": "stdout",
     "output_type": "stream",
     "text": [
      "准确率：41.46%\n"
     ]
    }
   ],
   "source": [
    "import csv\n",
    "import random\n",
    "\n",
    "from mindspore import train\n",
    "\n",
    "with open('car_price.csv','r') as file:\n",
    "    reader = csv.DictReader(file)\n",
    "    datas = [row for row in reader]\n",
    "\n",
    "random.shuffle(datas)\n",
    "n = int(len(datas)*0.2)\n",
    "\n",
    "test_set = datas[0:n]\n",
    "train_set = datas[n:]\n",
    "#print(test_set)\n",
    "\n",
    "def distance(d1,d2):\n",
    "    res = 0\n",
    "\n",
    "    for key in (\"wheelbase\", \"carlength\", \"carwidth\", \"carheight\", \"horsepower\", \"price\"):\n",
    "        res+=(float(d1[key])-float(d2[key]))**2\n",
    "\n",
    "    return res**0.5\n",
    "\n",
    "K = 10\n",
    "def knn(data):\n",
    "    res = [\n",
    "        {\"result\":train['symboling'],\"distance\":distance(data,train)}\n",
    "        for train in train_set\n",
    "    ]\n",
    "    res = sorted(res,key = lambda item:item['distance'])\n",
    "    res2 = res[0:K]\n",
    "    result = {'-2':0,'-1':0, '0':0, '1':0, '2':0, '3':0}\n",
    "    sum = 0\n",
    "    for r in res2:\n",
    "      sum+=r['distance']\n",
    "    for r in res2:\n",
    "        result[r['result']]+=1-r['distance']/sum\n",
    "    tmp = max(result.values())\n",
    "    for key,value in result.items():\n",
    "        if(value == tmp):\n",
    "            return key\n",
    "\n",
    "\n",
    "correct = 0\n",
    "predict_res = []\n",
    "for test in test_set:\n",
    "    result = test['symboling']\n",
    "    result2 = knn(test)\n",
    "    predict_res.append(result2)\n",
    "\n",
    "    if result == result2:\n",
    "        correct+=1\n",
    "\n",
    "print(\"准确率：{:.2f}%\".format(100*correct/len(test_set)))"
   ]
  }
 ],
 "metadata": {
  "kernelspec": {
   "display_name": "Python 3 (ipykernel)",
   "language": "python",
   "name": "python3"
  },
  "language_info": {
   "codemirror_mode": {
    "name": "ipython",
    "version": 3
   },
   "file_extension": ".py",
   "mimetype": "text/x-python",
   "name": "python",
   "nbconvert_exporter": "python",
   "pygments_lexer": "ipython3",
   "version": "3.9.7"
  }
 },
 "nbformat": 4,
 "nbformat_minor": 5
}
